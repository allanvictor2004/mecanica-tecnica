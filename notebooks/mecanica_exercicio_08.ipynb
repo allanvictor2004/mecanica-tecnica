{
  "cells": [
    {
      "cell_type": "markdown",
      "metadata": {
        "id": "948QxYPFsgHv"
      },
      "source": [
        "---\n",
        "title: Lista de Exercícios I - Mecânica Técnica\n",
        "author: Allan Victor Mateus Guimarães\n",
        "jupyter: python3\n",
        "format:\n",
        "  pdf:\n",
        "    documentclass: report\n",
        "    classoption: [twocolumn, landscape]\n",
        "    lof: true\n",
        "    lot: true\n",
        "    geometry:\n",
        "      - top=30mm\n",
        "      - left=20mm\n",
        "      - heightrounded\n",
        "    fontfamily: libertinus\n",
        "    colorlinks: true\n",
        "---"
      ]
    },
    {
      "cell_type": "markdown",
      "metadata": {
        "id": "g5clsgO3sgHy"
      },
      "source": [
        "## Exercício 08\n",
        "\n",
        "Para o sistema da Figura 8, desenvolver algoritmo para determinação da força\n",
        "resultante R. Apresentar algoritmo e aplicação para os seguintes valores: (a) F1 = 150 N,\n",
        "F2 = 80N, F3 = 110N, F4 = 100 N, α = 15º, β = 20º e θ = 30º; (b) F1 = 15 N, F2 = 8N, F3 = 11N,\n",
        "F4 = 10 N, α = 15º, β = 20º e θ = 30º; (c) F1 = 55 N, F2 = -74N, F3 = 44N, F4 = 98 N, α = 150º,\n",
        "β = 23º e θ = -15º.\n",
        "\n",
        "<br>\n",
        "<br>"
      ]
    },
    {
      "cell_type": "markdown",
      "metadata": {
        "id": "YzeRwgHMsgHz"
      },
      "source": [
        "### Bibliotecas:"
      ]
    },
    {
      "cell_type": "code",
      "execution_count": 14,
      "metadata": {
        "id": "ua3dbz2bsgH0"
      },
      "outputs": [],
      "source": [
        "from math import sqrt, sin, cos, radians, degrees, atan, acos, trunc\n",
        "import pandas as pd\n",
        "from IPython.display import display, Markdown"
      ]
    },
    {
      "cell_type": "markdown",
      "metadata": {
        "id": "RI68_EbgsgH1"
      },
      "source": [
        "### Classe que define um vetor $\\vec{F}$ de duas dimensões:\n",
        "\n",
        "- **init**: cria um vetor a partir das componentes $x$ e $y$ do vetor;\n",
        "- **incializa**: cria um vetor a partir do módulo, descrição do parametro angulo ($\\alpha$, $\\beta$ e $\\theta$) e o valor do angulo em graus;\n",
        "- **resultante_de_forcas**: calcula o vetor resultante tomando um array de vetores;\n",
        "- **angulo_de_direcao**: cacula o angulo $\\theta$ do vetor com base nas componentes;\n",
        "- **modulo**: cacula o $|\\vec{F}|$ com base nas suas componentes;\n",
        "- **componentes**: retorna uma tupla com os valores de $\\mathbf{F}_x$ e $\\mathbf{F}_y$."
      ]
    },
    {
      "cell_type": "code",
      "execution_count": 7,
      "metadata": {
        "id": "AfV6FhDpsgH1"
      },
      "outputs": [],
      "source": [
        "class Vetor2D:\n",
        "    CASAS_DECIMAIS = 3\n",
        "\n",
        "    def __init__(self, componente_x, componente_y):\n",
        "        self.componente_x = round(componente_x, self.CASAS_DECIMAIS)\n",
        "        self.componente_y = round(componente_y, self.CASAS_DECIMAIS)\n",
        "\n",
        "    @classmethod\n",
        "    def inicializa(cls, modulo, desc_angulo, valor_angulo):\n",
        "        modulo = abs(modulo)\n",
        "\n",
        "        match desc_angulo:\n",
        "            case 'tetha':\n",
        "                valor_angulo = valor_angulo\n",
        "            case 'betha':\n",
        "                valor_angulo = valor_angulo + 90\n",
        "            case 'alpha':\n",
        "                valor_angulo = 360 - valor_angulo\n",
        "            case _:\n",
        "                valor_angulo = 270\n",
        "\n",
        "        componente_x = modulo * cos(radians(valor_angulo))\n",
        "        componente_y = modulo * sin(radians(valor_angulo))\n",
        "        return cls(componente_x=componente_x, componente_y=componente_y)\n",
        "\n",
        "    @classmethod\n",
        "    def resultante_de_forcas(cls, vetores):\n",
        "        resultante_x = sum([vetor.componente_x for vetor in vetores])\n",
        "        resultante_y = sum([vetor.componente_y for vetor in vetores])\n",
        "        return cls(componente_x=resultante_x, componente_y=resultante_y)\n",
        "\n",
        "\n",
        "    def __str__(self):\n",
        "        return f'Vetor <Componentes: {self.componentes()}, Modulo: {self.modulo()}, Direção: {self.angulo_de_direcao()}°>'\n",
        "\n",
        "\n",
        "    def angulo_de_direcao(self):\n",
        "        if self.componente_x == 0:\n",
        "            return (90 if self.componente_y >= 0 else 270)\n",
        "        else:\n",
        "            return round(degrees(atan(self.componente_y / self.componente_x)), self.CASAS_DECIMAIS)\n",
        "\n",
        "\n",
        "    def modulo(self):\n",
        "        return round(sqrt((self.componente_x**2) + (self.componente_y**2)), self.CASAS_DECIMAIS)\n",
        "\n",
        "\n",
        "    def componentes(self):\n",
        "        return (self.componente_x, self.componente_y)"
      ]
    },
    {
      "cell_type": "markdown",
      "metadata": {
        "id": "DMNk8tB2sgH1"
      },
      "source": [
        "### Realizando as operações para a situação $(a)$:"
      ]
    },
    {
      "cell_type": "markdown",
      "metadata": {
        "id": "WoPWt1VosgH2"
      },
      "source": [
        "* Criando os vetores $\\vec{F}_1$, $\\vec{F}_2$, $\\vec{F}_3$ e $\\vec{F}_4$:"
      ]
    },
    {
      "cell_type": "code",
      "execution_count": 8,
      "metadata": {
        "id": "OFRsnrELsgH2"
      },
      "outputs": [],
      "source": [
        "F1 = Vetor2D.inicializa(150, 'tetha', 30)\n",
        "F2 = Vetor2D.inicializa(80, 'betha', 20)\n",
        "F3 = Vetor2D.inicializa(110, 'tetha', 270)\n",
        "F4 = Vetor2D.inicializa(100, 'alpha', 15)\n"
      ]
    },
    {
      "cell_type": "markdown",
      "metadata": {
        "id": "2Bauo4IwsgH2"
      },
      "source": [
        "* Combinando os vetores em um **array** e calculando o vetor resultante $\\vec{F}_r$:"
      ]
    },
    {
      "cell_type": "code",
      "execution_count": 9,
      "metadata": {
        "colab": {
          "base_uri": "https://localhost:8080/"
        },
        "id": "Fc7gX0gysgH3",
        "outputId": "508322dd-1aae-4a90-aa1a-115d2fdfa913"
      },
      "outputs": [
        {
          "name": "stdout",
          "output_type": "stream",
          "text": [
            "Vetor <Componentes: (199.135, 14.293), Modulo: 199.647, Direção: 4.105°>\n"
          ]
        }
      ],
      "source": [
        "vetores = [F1, F2, F3, F4]\n",
        "\n",
        "vetor_resultante = Vetor2D.resultante_de_forcas(vetores=vetores)\n",
        "print(vetor_resultante)"
      ]
    },
    {
      "cell_type": "markdown",
      "metadata": {
        "id": "BgNPYuiFsgH3"
      },
      "source": [
        "### Realizando as operações com vetores a partir de um arquivo:"
      ]
    },
    {
      "cell_type": "markdown",
      "metadata": {
        "id": "KpuBkS3KsgH4"
      },
      "source": [
        "* Carregando dados da planilha **forcas.xlsx**:"
      ]
    },
    {
      "cell_type": "code",
      "execution_count": 37,
      "metadata": {
        "colab": {
          "base_uri": "https://localhost:8080/",
          "height": 425
        },
        "id": "i5C3saBKsgH4",
        "outputId": "cfb99dc7-f113-4cfb-b3b8-2f65961e7262"
      },
      "outputs": [
        {
          "data": {
            "application/vnd.google.colaboratory.intrinsic+json": {
              "summary": "{\n  \"name\": \"df_forcas\",\n  \"rows\": 12,\n  \"fields\": [\n    {\n      \"column\": \"questao\",\n      \"properties\": {\n        \"dtype\": \"category\",\n        \"num_unique_values\": 3,\n        \"samples\": [\n          \"a\",\n          \"b\",\n          \"c\"\n        ],\n        \"semantic_type\": \"\",\n        \"description\": \"\"\n      }\n    },\n    {\n      \"column\": \"vetor\",\n      \"properties\": {\n        \"dtype\": \"category\",\n        \"num_unique_values\": 4,\n        \"samples\": [\n          \"F2\",\n          \"F4\",\n          \"F1\"\n        ],\n        \"semantic_type\": \"\",\n        \"description\": \"\"\n      }\n    },\n    {\n      \"column\": \"modulo\",\n      \"properties\": {\n        \"dtype\": \"number\",\n        \"std\": 53,\n        \"min\": 8,\n        \"max\": 150,\n        \"num_unique_values\": 8,\n        \"samples\": [\n          80,\n          8,\n          150\n        ],\n        \"semantic_type\": \"\",\n        \"description\": \"\"\n      }\n    },\n    {\n      \"column\": \"desc_angulo\",\n      \"properties\": {\n        \"dtype\": \"category\",\n        \"num_unique_values\": 3,\n        \"samples\": [\n          \"tetha\",\n          \"betha\",\n          \"alpha\"\n        ],\n        \"semantic_type\": \"\",\n        \"description\": \"\"\n      }\n    },\n    {\n      \"column\": \"valor_angulo\",\n      \"properties\": {\n        \"dtype\": \"number\",\n        \"std\": 46.30064794363034,\n        \"min\": -15.0,\n        \"max\": 150.0,\n        \"num_unique_values\": 5,\n        \"samples\": [\n          20.0,\n          150.0,\n          15.0\n        ],\n        \"semantic_type\": \"\",\n        \"description\": \"\"\n      }\n    }\n  ]\n}",
              "type": "dataframe",
              "variable_name": "df_forcas"
            },
            "text/html": [
              "\n",
              "  <div id=\"df-db4998be-1d7e-438f-9bdc-7cef14197916\" class=\"colab-df-container\">\n",
              "    <div>\n",
              "<style scoped>\n",
              "    .dataframe tbody tr th:only-of-type {\n",
              "        vertical-align: middle;\n",
              "    }\n",
              "\n",
              "    .dataframe tbody tr th {\n",
              "        vertical-align: top;\n",
              "    }\n",
              "\n",
              "    .dataframe thead th {\n",
              "        text-align: right;\n",
              "    }\n",
              "</style>\n",
              "<table border=\"1\" class=\"dataframe\">\n",
              "  <thead>\n",
              "    <tr style=\"text-align: right;\">\n",
              "      <th></th>\n",
              "      <th>questao</th>\n",
              "      <th>vetor</th>\n",
              "      <th>modulo</th>\n",
              "      <th>desc_angulo</th>\n",
              "      <th>valor_angulo</th>\n",
              "    </tr>\n",
              "  </thead>\n",
              "  <tbody>\n",
              "    <tr>\n",
              "      <th>0</th>\n",
              "      <td>a</td>\n",
              "      <td>F1</td>\n",
              "      <td>150</td>\n",
              "      <td>tetha</td>\n",
              "      <td>30.0</td>\n",
              "    </tr>\n",
              "    <tr>\n",
              "      <th>1</th>\n",
              "      <td>a</td>\n",
              "      <td>F2</td>\n",
              "      <td>80</td>\n",
              "      <td>betha</td>\n",
              "      <td>20.0</td>\n",
              "    </tr>\n",
              "    <tr>\n",
              "      <th>2</th>\n",
              "      <td>a</td>\n",
              "      <td>F3</td>\n",
              "      <td>110</td>\n",
              "      <td>NaN</td>\n",
              "      <td>NaN</td>\n",
              "    </tr>\n",
              "    <tr>\n",
              "      <th>3</th>\n",
              "      <td>a</td>\n",
              "      <td>F4</td>\n",
              "      <td>100</td>\n",
              "      <td>alpha</td>\n",
              "      <td>15.0</td>\n",
              "    </tr>\n",
              "    <tr>\n",
              "      <th>4</th>\n",
              "      <td>b</td>\n",
              "      <td>F1</td>\n",
              "      <td>15</td>\n",
              "      <td>tetha</td>\n",
              "      <td>30.0</td>\n",
              "    </tr>\n",
              "    <tr>\n",
              "      <th>5</th>\n",
              "      <td>b</td>\n",
              "      <td>F2</td>\n",
              "      <td>8</td>\n",
              "      <td>betha</td>\n",
              "      <td>20.0</td>\n",
              "    </tr>\n",
              "    <tr>\n",
              "      <th>6</th>\n",
              "      <td>b</td>\n",
              "      <td>F3</td>\n",
              "      <td>11</td>\n",
              "      <td>NaN</td>\n",
              "      <td>NaN</td>\n",
              "    </tr>\n",
              "    <tr>\n",
              "      <th>7</th>\n",
              "      <td>b</td>\n",
              "      <td>F4</td>\n",
              "      <td>10</td>\n",
              "      <td>alpha</td>\n",
              "      <td>15.0</td>\n",
              "    </tr>\n",
              "    <tr>\n",
              "      <th>8</th>\n",
              "      <td>c</td>\n",
              "      <td>F1</td>\n",
              "      <td>150</td>\n",
              "      <td>tetha</td>\n",
              "      <td>-15.0</td>\n",
              "    </tr>\n",
              "    <tr>\n",
              "      <th>9</th>\n",
              "      <td>c</td>\n",
              "      <td>F2</td>\n",
              "      <td>80</td>\n",
              "      <td>betha</td>\n",
              "      <td>20.0</td>\n",
              "    </tr>\n",
              "    <tr>\n",
              "      <th>10</th>\n",
              "      <td>c</td>\n",
              "      <td>F3</td>\n",
              "      <td>110</td>\n",
              "      <td>NaN</td>\n",
              "      <td>NaN</td>\n",
              "    </tr>\n",
              "    <tr>\n",
              "      <th>11</th>\n",
              "      <td>c</td>\n",
              "      <td>F4</td>\n",
              "      <td>100</td>\n",
              "      <td>alpha</td>\n",
              "      <td>150.0</td>\n",
              "    </tr>\n",
              "  </tbody>\n",
              "</table>\n",
              "</div>\n",
              "    <div class=\"colab-df-buttons\">\n",
              "\n",
              "  <div class=\"colab-df-container\">\n",
              "    <button class=\"colab-df-convert\" onclick=\"convertToInteractive('df-db4998be-1d7e-438f-9bdc-7cef14197916')\"\n",
              "            title=\"Convert this dataframe to an interactive table.\"\n",
              "            style=\"display:none;\">\n",
              "\n",
              "  <svg xmlns=\"http://www.w3.org/2000/svg\" height=\"24px\" viewBox=\"0 -960 960 960\">\n",
              "    <path d=\"M120-120v-720h720v720H120Zm60-500h600v-160H180v160Zm220 220h160v-160H400v160Zm0 220h160v-160H400v160ZM180-400h160v-160H180v160Zm440 0h160v-160H620v160ZM180-180h160v-160H180v160Zm440 0h160v-160H620v160Z\"/>\n",
              "  </svg>\n",
              "    </button>\n",
              "\n",
              "  <style>\n",
              "    .colab-df-container {\n",
              "      display:flex;\n",
              "      gap: 12px;\n",
              "    }\n",
              "\n",
              "    .colab-df-convert {\n",
              "      background-color: #E8F0FE;\n",
              "      border: none;\n",
              "      border-radius: 50%;\n",
              "      cursor: pointer;\n",
              "      display: none;\n",
              "      fill: #1967D2;\n",
              "      height: 32px;\n",
              "      padding: 0 0 0 0;\n",
              "      width: 32px;\n",
              "    }\n",
              "\n",
              "    .colab-df-convert:hover {\n",
              "      background-color: #E2EBFA;\n",
              "      box-shadow: 0px 1px 2px rgba(60, 64, 67, 0.3), 0px 1px 3px 1px rgba(60, 64, 67, 0.15);\n",
              "      fill: #174EA6;\n",
              "    }\n",
              "\n",
              "    .colab-df-buttons div {\n",
              "      margin-bottom: 4px;\n",
              "    }\n",
              "\n",
              "    [theme=dark] .colab-df-convert {\n",
              "      background-color: #3B4455;\n",
              "      fill: #D2E3FC;\n",
              "    }\n",
              "\n",
              "    [theme=dark] .colab-df-convert:hover {\n",
              "      background-color: #434B5C;\n",
              "      box-shadow: 0px 1px 3px 1px rgba(0, 0, 0, 0.15);\n",
              "      filter: drop-shadow(0px 1px 2px rgba(0, 0, 0, 0.3));\n",
              "      fill: #FFFFFF;\n",
              "    }\n",
              "  </style>\n",
              "\n",
              "    <script>\n",
              "      const buttonEl =\n",
              "        document.querySelector('#df-db4998be-1d7e-438f-9bdc-7cef14197916 button.colab-df-convert');\n",
              "      buttonEl.style.display =\n",
              "        google.colab.kernel.accessAllowed ? 'block' : 'none';\n",
              "\n",
              "      async function convertToInteractive(key) {\n",
              "        const element = document.querySelector('#df-db4998be-1d7e-438f-9bdc-7cef14197916');\n",
              "        const dataTable =\n",
              "          await google.colab.kernel.invokeFunction('convertToInteractive',\n",
              "                                                    [key], {});\n",
              "        if (!dataTable) return;\n",
              "\n",
              "        const docLinkHtml = 'Like what you see? Visit the ' +\n",
              "          '<a target=\"_blank\" href=https://colab.research.google.com/notebooks/data_table.ipynb>data table notebook</a>'\n",
              "          + ' to learn more about interactive tables.';\n",
              "        element.innerHTML = '';\n",
              "        dataTable['output_type'] = 'display_data';\n",
              "        await google.colab.output.renderOutput(dataTable, element);\n",
              "        const docLink = document.createElement('div');\n",
              "        docLink.innerHTML = docLinkHtml;\n",
              "        element.appendChild(docLink);\n",
              "      }\n",
              "    </script>\n",
              "  </div>\n",
              "\n",
              "\n",
              "<div id=\"df-09ac37fb-d9a8-405a-8e72-5d34508cdd87\">\n",
              "  <button class=\"colab-df-quickchart\" onclick=\"quickchart('df-09ac37fb-d9a8-405a-8e72-5d34508cdd87')\"\n",
              "            title=\"Suggest charts\"\n",
              "            style=\"display:none;\">\n",
              "\n",
              "<svg xmlns=\"http://www.w3.org/2000/svg\" height=\"24px\"viewBox=\"0 0 24 24\"\n",
              "     width=\"24px\">\n",
              "    <g>\n",
              "        <path d=\"M19 3H5c-1.1 0-2 .9-2 2v14c0 1.1.9 2 2 2h14c1.1 0 2-.9 2-2V5c0-1.1-.9-2-2-2zM9 17H7v-7h2v7zm4 0h-2V7h2v10zm4 0h-2v-4h2v4z\"/>\n",
              "    </g>\n",
              "</svg>\n",
              "  </button>\n",
              "\n",
              "<style>\n",
              "  .colab-df-quickchart {\n",
              "      --bg-color: #E8F0FE;\n",
              "      --fill-color: #1967D2;\n",
              "      --hover-bg-color: #E2EBFA;\n",
              "      --hover-fill-color: #174EA6;\n",
              "      --disabled-fill-color: #AAA;\n",
              "      --disabled-bg-color: #DDD;\n",
              "  }\n",
              "\n",
              "  [theme=dark] .colab-df-quickchart {\n",
              "      --bg-color: #3B4455;\n",
              "      --fill-color: #D2E3FC;\n",
              "      --hover-bg-color: #434B5C;\n",
              "      --hover-fill-color: #FFFFFF;\n",
              "      --disabled-bg-color: #3B4455;\n",
              "      --disabled-fill-color: #666;\n",
              "  }\n",
              "\n",
              "  .colab-df-quickchart {\n",
              "    background-color: var(--bg-color);\n",
              "    border: none;\n",
              "    border-radius: 50%;\n",
              "    cursor: pointer;\n",
              "    display: none;\n",
              "    fill: var(--fill-color);\n",
              "    height: 32px;\n",
              "    padding: 0;\n",
              "    width: 32px;\n",
              "  }\n",
              "\n",
              "  .colab-df-quickchart:hover {\n",
              "    background-color: var(--hover-bg-color);\n",
              "    box-shadow: 0 1px 2px rgba(60, 64, 67, 0.3), 0 1px 3px 1px rgba(60, 64, 67, 0.15);\n",
              "    fill: var(--button-hover-fill-color);\n",
              "  }\n",
              "\n",
              "  .colab-df-quickchart-complete:disabled,\n",
              "  .colab-df-quickchart-complete:disabled:hover {\n",
              "    background-color: var(--disabled-bg-color);\n",
              "    fill: var(--disabled-fill-color);\n",
              "    box-shadow: none;\n",
              "  }\n",
              "\n",
              "  .colab-df-spinner {\n",
              "    border: 2px solid var(--fill-color);\n",
              "    border-color: transparent;\n",
              "    border-bottom-color: var(--fill-color);\n",
              "    animation:\n",
              "      spin 1s steps(1) infinite;\n",
              "  }\n",
              "\n",
              "  @keyframes spin {\n",
              "    0% {\n",
              "      border-color: transparent;\n",
              "      border-bottom-color: var(--fill-color);\n",
              "      border-left-color: var(--fill-color);\n",
              "    }\n",
              "    20% {\n",
              "      border-color: transparent;\n",
              "      border-left-color: var(--fill-color);\n",
              "      border-top-color: var(--fill-color);\n",
              "    }\n",
              "    30% {\n",
              "      border-color: transparent;\n",
              "      border-left-color: var(--fill-color);\n",
              "      border-top-color: var(--fill-color);\n",
              "      border-right-color: var(--fill-color);\n",
              "    }\n",
              "    40% {\n",
              "      border-color: transparent;\n",
              "      border-right-color: var(--fill-color);\n",
              "      border-top-color: var(--fill-color);\n",
              "    }\n",
              "    60% {\n",
              "      border-color: transparent;\n",
              "      border-right-color: var(--fill-color);\n",
              "    }\n",
              "    80% {\n",
              "      border-color: transparent;\n",
              "      border-right-color: var(--fill-color);\n",
              "      border-bottom-color: var(--fill-color);\n",
              "    }\n",
              "    90% {\n",
              "      border-color: transparent;\n",
              "      border-bottom-color: var(--fill-color);\n",
              "    }\n",
              "  }\n",
              "</style>\n",
              "\n",
              "  <script>\n",
              "    async function quickchart(key) {\n",
              "      const quickchartButtonEl =\n",
              "        document.querySelector('#' + key + ' button');\n",
              "      quickchartButtonEl.disabled = true;  // To prevent multiple clicks.\n",
              "      quickchartButtonEl.classList.add('colab-df-spinner');\n",
              "      try {\n",
              "        const charts = await google.colab.kernel.invokeFunction(\n",
              "            'suggestCharts', [key], {});\n",
              "      } catch (error) {\n",
              "        console.error('Error during call to suggestCharts:', error);\n",
              "      }\n",
              "      quickchartButtonEl.classList.remove('colab-df-spinner');\n",
              "      quickchartButtonEl.classList.add('colab-df-quickchart-complete');\n",
              "    }\n",
              "    (() => {\n",
              "      let quickchartButtonEl =\n",
              "        document.querySelector('#df-09ac37fb-d9a8-405a-8e72-5d34508cdd87 button');\n",
              "      quickchartButtonEl.style.display =\n",
              "        google.colab.kernel.accessAllowed ? 'block' : 'none';\n",
              "    })();\n",
              "  </script>\n",
              "</div>\n",
              "\n",
              "  <div id=\"id_1534b994-d422-458e-9758-49b5afe45f9c\">\n",
              "    <style>\n",
              "      .colab-df-generate {\n",
              "        background-color: #E8F0FE;\n",
              "        border: none;\n",
              "        border-radius: 50%;\n",
              "        cursor: pointer;\n",
              "        display: none;\n",
              "        fill: #1967D2;\n",
              "        height: 32px;\n",
              "        padding: 0 0 0 0;\n",
              "        width: 32px;\n",
              "      }\n",
              "\n",
              "      .colab-df-generate:hover {\n",
              "        background-color: #E2EBFA;\n",
              "        box-shadow: 0px 1px 2px rgba(60, 64, 67, 0.3), 0px 1px 3px 1px rgba(60, 64, 67, 0.15);\n",
              "        fill: #174EA6;\n",
              "      }\n",
              "\n",
              "      [theme=dark] .colab-df-generate {\n",
              "        background-color: #3B4455;\n",
              "        fill: #D2E3FC;\n",
              "      }\n",
              "\n",
              "      [theme=dark] .colab-df-generate:hover {\n",
              "        background-color: #434B5C;\n",
              "        box-shadow: 0px 1px 3px 1px rgba(0, 0, 0, 0.15);\n",
              "        filter: drop-shadow(0px 1px 2px rgba(0, 0, 0, 0.3));\n",
              "        fill: #FFFFFF;\n",
              "      }\n",
              "    </style>\n",
              "    <button class=\"colab-df-generate\" onclick=\"generateWithVariable('df_forcas')\"\n",
              "            title=\"Generate code using this dataframe.\"\n",
              "            style=\"display:none;\">\n",
              "\n",
              "  <svg xmlns=\"http://www.w3.org/2000/svg\" height=\"24px\"viewBox=\"0 0 24 24\"\n",
              "       width=\"24px\">\n",
              "    <path d=\"M7,19H8.4L18.45,9,17,7.55,7,17.6ZM5,21V16.75L18.45,3.32a2,2,0,0,1,2.83,0l1.4,1.43a1.91,1.91,0,0,1,.58,1.4,1.91,1.91,0,0,1-.58,1.4L9.25,21ZM18.45,9,17,7.55Zm-12,3A5.31,5.31,0,0,0,4.9,8.1,5.31,5.31,0,0,0,1,6.5,5.31,5.31,0,0,0,4.9,4.9,5.31,5.31,0,0,0,6.5,1,5.31,5.31,0,0,0,8.1,4.9,5.31,5.31,0,0,0,12,6.5,5.46,5.46,0,0,0,6.5,12Z\"/>\n",
              "  </svg>\n",
              "    </button>\n",
              "    <script>\n",
              "      (() => {\n",
              "      const buttonEl =\n",
              "        document.querySelector('#id_1534b994-d422-458e-9758-49b5afe45f9c button.colab-df-generate');\n",
              "      buttonEl.style.display =\n",
              "        google.colab.kernel.accessAllowed ? 'block' : 'none';\n",
              "\n",
              "      buttonEl.onclick = () => {\n",
              "        google.colab.notebook.generateWithVariable('df_forcas');\n",
              "      }\n",
              "      })();\n",
              "    </script>\n",
              "  </div>\n",
              "\n",
              "    </div>\n",
              "  </div>\n"
            ],
            "text/plain": [
              "   questao vetor  modulo desc_angulo  valor_angulo\n",
              "0        a    F1     150       tetha          30.0\n",
              "1        a    F2      80       betha          20.0\n",
              "2        a    F3     110         NaN           NaN\n",
              "3        a    F4     100       alpha          15.0\n",
              "4        b    F1      15       tetha          30.0\n",
              "5        b    F2       8       betha          20.0\n",
              "6        b    F3      11         NaN           NaN\n",
              "7        b    F4      10       alpha          15.0\n",
              "8        c    F1     150       tetha         -15.0\n",
              "9        c    F2      80       betha          20.0\n",
              "10       c    F3     110         NaN           NaN\n",
              "11       c    F4     100       alpha         150.0"
            ]
          },
          "execution_count": 37,
          "metadata": {},
          "output_type": "execute_result"
        }
      ],
      "source": [
        "PLANILHA_DE_DADOS = '/forcas.xlsx'\n",
        "\n",
        "df_forcas = pd.read_excel(\n",
        "    PLANILHA_DE_DADOS,\n",
        "    engine='openpyxl',\n",
        "    sheet_name='dados'\n",
        ")\n",
        "\n",
        "df_forcas"
      ]
    },
    {
      "cell_type": "markdown",
      "metadata": {
        "id": "1AtWErRwsgH4"
      },
      "source": [
        "* Agrupando os cojuntos de forças $\\vec{F}_1$, $\\vec{F}_2$, $\\vec{F}_3$ e $\\vec{F}_4$ para cada questão:"
      ]
    },
    {
      "cell_type": "code",
      "execution_count": 39,
      "metadata": {
        "colab": {
          "base_uri": "https://localhost:8080/"
        },
        "id": "WOzmuLaDsgH4",
        "outputId": "2f4c2194-93c3-49fb-c946-86c7fca6edfb"
      },
      "outputs": [
        {
          "data": {
            "text/plain": [
              "{'a':   vetor  modulo desc_angulo  valor_angulo\n",
              " 0    F1     150       tetha          30.0\n",
              " 1    F2      80       betha          20.0\n",
              " 2    F3     110         NaN           NaN\n",
              " 3    F4     100       alpha          15.0,\n",
              " 'b':   vetor  modulo desc_angulo  valor_angulo\n",
              " 4    F1      15       tetha          30.0\n",
              " 5    F2       8       betha          20.0\n",
              " 6    F3      11         NaN           NaN\n",
              " 7    F4      10       alpha          15.0,\n",
              " 'c':    vetor  modulo desc_angulo  valor_angulo\n",
              " 8     F1     150       tetha         -15.0\n",
              " 9     F2      80       betha          20.0\n",
              " 10    F3     110         NaN           NaN\n",
              " 11    F4     100       alpha         150.0}"
            ]
          },
          "execution_count": 39,
          "metadata": {},
          "output_type": "execute_result"
        }
      ],
      "source": [
        "forcas_das_questoes = {questao: forcas[['vetor', 'modulo', 'desc_angulo', 'valor_angulo']] for questao, forcas in df_forcas.groupby('questao')}\n",
        "\n",
        "forcas_das_questoes"
      ]
    },
    {
      "cell_type": "markdown",
      "metadata": {
        "id": "qmHVtx15sgH4"
      },
      "source": [
        "* Calculando o vetor resultante $\\vec{F}_r$ para cada questão:"
      ]
    },
    {
      "cell_type": "code",
      "execution_count": 40,
      "metadata": {
        "colab": {
          "base_uri": "https://localhost:8080/"
        },
        "id": "je_ncUEVsgH4",
        "outputId": "bb068585-cb63-4980-b4cb-e677e935560d"
      },
      "outputs": [
        {
          "data": {
            "text/plain": [
              "{'a': [<__main__.Vetor2D at 0x788d5c2b91b0>,\n",
              "  <__main__.Vetor2D at 0x788d5c2b8430>,\n",
              "  <__main__.Vetor2D at 0x788d5c2bb9d0>,\n",
              "  <__main__.Vetor2D at 0x788d5c2bab90>],\n",
              " 'b': [<__main__.Vetor2D at 0x788d5c2b8730>,\n",
              "  <__main__.Vetor2D at 0x788d5c2b9210>,\n",
              "  <__main__.Vetor2D at 0x788d5c2bb1f0>,\n",
              "  <__main__.Vetor2D at 0x788d5c2b88b0>],\n",
              " 'c': [<__main__.Vetor2D at 0x788d5dd71360>,\n",
              "  <__main__.Vetor2D at 0x788d5dd73250>,\n",
              "  <__main__.Vetor2D at 0x788d5dd70820>,\n",
              "  <__main__.Vetor2D at 0x788d5dd71a20>]}"
            ]
          },
          "execution_count": 40,
          "metadata": {},
          "output_type": "execute_result"
        }
      ],
      "source": [
        "forcas_das_questoes = {\n",
        "    questao: [\n",
        "        Vetor2D.inicializa(forca.modulo, forca.desc_angulo, forca.valor_angulo)\n",
        "        for _, forca in forcas.iterrows()\n",
        "    ]\n",
        "    for questao, forcas in forcas_das_questoes.items()\n",
        "}\n",
        "\n",
        "forcas_das_questoes"
      ]
    },
    {
      "cell_type": "markdown",
      "metadata": {
        "id": "70q3_x3tsgH5"
      },
      "source": [
        "* Resultados:"
      ]
    },
    {
      "cell_type": "code",
      "execution_count": 41,
      "metadata": {
        "id": "jzHGrOgmsgH5"
      },
      "outputs": [],
      "source": [
        "resultantes_das_questoes = {\n",
        "    questao: Vetor2D.resultante_de_forcas(vetores=forcas) for questao, forcas in forcas_das_questoes.items()\n",
        "}"
      ]
    },
    {
      "cell_type": "code",
      "execution_count": 42,
      "metadata": {
        "colab": {
          "base_uri": "https://localhost:8080/",
          "height": 109
        },
        "id": "o2jUgktpxhfs",
        "outputId": "349390e7-22b9-43f7-d756-4317465383a2"
      },
      "outputs": [
        {
          "data": {
            "text/markdown": [
              "**Questão $a$:** $\\vec{F}_r$ = $199.135i$ +$14.293j$"
            ],
            "text/plain": [
              "<IPython.core.display.Markdown object>"
            ]
          },
          "metadata": {},
          "output_type": "display_data"
        },
        {
          "data": {
            "text/markdown": [
              "**Questão $b$:** $\\vec{F}_r$ = $19.913i$ +$1.43j$"
            ],
            "text/plain": [
              "<IPython.core.display.Markdown object>"
            ]
          },
          "metadata": {},
          "output_type": "display_data"
        },
        {
          "data": {
            "text/markdown": [
              "**Questão $c$:** $\\vec{F}_r$ = $30.924i$ $-123.648j$"
            ],
            "text/plain": [
              "<IPython.core.display.Markdown object>"
            ]
          },
          "metadata": {},
          "output_type": "display_data"
        }
      ],
      "source": [
        "#| echo: false\n",
        "for questao, vetor_resultante in resultantes_das_questoes.items():\n",
        "    sinal_componente_y = '+' if vetor_resultante.componente_y >= 0 else ''\n",
        "    resposta = f'**Questão ${questao}$:** ' + r'$\\vec{F}_r$ = ' + f'${vetor_resultante.componente_x}i$ ' + sinal_componente_y + f'${vetor_resultante.componente_y}j$'\n",
        "    display(Markdown(resposta))"
      ]
    },
    {
      "cell_type": "markdown",
      "metadata": {},
      "source": [
        "### Observação: \n",
        "\n",
        "Todas as forças devem estar na mesma unidade para que os resultados sejam coerentes.<br>\n",
        "Nas alternativas $(a)$, $(b)$ e $(c)$ todas as forças se encontram em $N$."
      ]
    },
    {
      "cell_type": "markdown",
      "metadata": {},
      "source": [
        "### Acesso ao Código e Dados do Exercício:\n",
        "- [Link do Notebook](https://drive.google.com/file/d/1NhXXl_5aOhahGbKEz_1THGBbSHduPw5P/view?usp=sharing)\n",
        "- [Link dos Dados](https://docs.google.com/spreadsheets/d/1RzaUyMrHArEgXdrNzVgrv2vyCmafsIPw/edit?usp=sharing&ouid=107316198120870873971&rtpof=true&sd=true)"
      ]
    }
  ],
  "metadata": {
    "colab": {
      "provenance": []
    },
    "kernelspec": {
      "display_name": "Python 3 (ipykernel)",
      "language": "python",
      "name": "python3"
    },
    "language_info": {
      "codemirror_mode": {
        "name": "ipython",
        "version": 3
      },
      "file_extension": ".py",
      "mimetype": "text/x-python",
      "name": "python",
      "nbconvert_exporter": "python",
      "pygments_lexer": "ipython3",
      "version": "3.12.4"
    }
  },
  "nbformat": 4,
  "nbformat_minor": 0
}
