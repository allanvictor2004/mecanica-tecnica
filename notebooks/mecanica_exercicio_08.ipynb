{
 "cells": [
  {
   "cell_type": "markdown",
   "metadata": {
    "id": "948QxYPFsgHv"
   },
   "source": [
    "---\n",
    "title: Lista de Exercícios I - Mecânica Técnica\n",
    "author: Allan Victor Mateus Guimarães\n",
    "date: today\n",
    "date-format: \"DD/MM/YYYY\"\n",
    "jupyter: python3\n",
    "format:\n",
    "  typst:\n",
    "    page_size: A4\n",
    "    orientation: landscape\n",
    "    font: \"Libertinus Serif\"\n",
    "    margins: [20mm, 20mm, 30mm, 30mm]  # Ordem: superior, inferior, esquerda, direita\n",
    "    colorlinks: true\n",
    "---"
   ]
  },
  {
   "cell_type": "markdown",
   "metadata": {
    "id": "g5clsgO3sgHy"
   },
   "source": [
    "## Exercício 08\n",
    "\n",
    "Para o sistema da Figura 8, desenvolver algoritmo para determinação da força\n",
    "resultante R. Apresentar algoritmo e aplicação para os seguintes valores: (a) F1 = 150 N,\n",
    "F2 = 80N, F3 = 110N, F4 = 100 N, α = 15º, β = 20º e θ = 30º; (b) F1 = 15 N, F2 = 8N, F3 = 11N,\n",
    "F4 = 10 N, α = 15º, β = 20º e θ = 30º; (c) F1 = 55 N, F2 = -74N, F3 = 44N, F4 = 98 N, α = 150º,\n",
    "β = 23º e θ = -15º.\n",
    "\n",
    "<br>\n",
    "<br>"
   ]
  },
  {
   "cell_type": "markdown",
   "metadata": {
    "id": "YzeRwgHMsgHz"
   },
   "source": [
    "### Bibliotecas:"
   ]
  },
  {
   "cell_type": "code",
   "execution_count": 1,
   "metadata": {
    "id": "ua3dbz2bsgH0"
   },
   "outputs": [],
   "source": [
    "import math\n",
    "import pandas as pd\n",
    "from IPython.display import display, Markdown"
   ]
  },
  {
   "cell_type": "markdown",
   "metadata": {
    "id": "RI68_EbgsgH1"
   },
   "source": [
    "### Classe que define um vetor $\\vec{F}$ de duas dimensões:\n",
    "\n",
    "- **init**: cria um vetor a partir das componentes $x$ e $y$, caso as componentes não estejam declaradas, a função criará o vetor a partir do módulo, descrição do parametro angulo ($\\alpha$, $\\beta$ e $\\theta$) e o valor do angulo em graus;\n",
    "- **resultante_de_forcas**: calcula o vetor resultante tomando um array de vetores;\n",
    "- **angulo_de_direcao**: cacula o angulo $\\theta$ do vetor com base nas componentes;\n",
    "- **modulo**: cacula o $|\\vec{F}|$ com base nas suas componentes;\n",
    "- **componentes**: retorna uma tupla com os valores de $\\mathbf{F}_x$ e $\\mathbf{F}_y$."
   ]
  },
  {
   "cell_type": "code",
   "execution_count": null,
   "metadata": {
    "id": "AfV6FhDpsgH1"
   },
   "outputs": [],
   "source": [
    "class Vetor2D:\n",
    "    CASAS_DECIMAIS = 3\n",
    "\n",
    "    def __init__(\n",
    "        self,\n",
    "        componente_x=None,\n",
    "        componente_y=None,\n",
    "        modulo=None,\n",
    "        desc_angulo=None,\n",
    "        valor_angulo=None,\n",
    "    ):\n",
    "        if None in [componente_x, componente_y]:\n",
    "            if not None in [modulo, desc_angulo, valor_angulo]:\n",
    "                modulo = abs(modulo)\n",
    "                match desc_angulo:\n",
    "                    case \"tetha\":\n",
    "                        valor_angulo = valor_angulo\n",
    "                    case \"betha\":\n",
    "                        valor_angulo = valor_angulo + 90\n",
    "                    case \"alpha\":\n",
    "                        valor_angulo = 360 - valor_angulo\n",
    "                    case _:\n",
    "                        valor_angulo = 270\n",
    "                componente_x = modulo * math.cos(math.radians(valor_angulo))\n",
    "                componente_y = modulo * math.sin(math.radians(valor_angulo))\n",
    "            else:\n",
    "                return None\n",
    "        self.componente_x = round(componente_x, self.CASAS_DECIMAIS)\n",
    "        self.componente_y = round(componente_y, self.CASAS_DECIMAIS)\n",
    "\n",
    "    @classmethod\n",
    "    def soma(cls, vetores):\n",
    "        resultante_x = sum([vetor.componente_x for vetor in vetores])\n",
    "        resultante_y = sum([vetor.componente_y for vetor in vetores])\n",
    "        return cls(componente_x=resultante_x, componente_y=resultante_y)\n",
    "\n",
    "    def __str__(self):\n",
    "        return f\"Vetor <Componentes: {self.componentes()}, Modulo: {self.modulo()}, Direção: {self.angulo()}°>\"\n",
    "\n",
    "    def angulo(self):\n",
    "        if self.componente_x == 0:\n",
    "            return 90 if self.componente_y >= 0 else 270\n",
    "        else:\n",
    "            return round(\n",
    "                math.degrees(\n",
    "                    math.atan(self.componente_y / self.componente_x)\n",
    "                ),\n",
    "                self.CASAS_DECIMAIS,\n",
    "            )\n",
    "\n",
    "    def modulo(self):\n",
    "        return round(\n",
    "            math.sqrt(\n",
    "                (self.componente_x**2) + (self.componente_y**2)\n",
    "            ), \n",
    "            self.CASAS_DECIMAIS\n",
    "        )\n",
    "\n",
    "    def componentes(self):\n",
    "        return (self.componente_x, self.componente_y)"
   ]
  },
  {
   "cell_type": "markdown",
   "metadata": {
    "id": "DMNk8tB2sgH1"
   },
   "source": [
    "### Realizando as operações para a situação $(a)$:"
   ]
  },
  {
   "cell_type": "markdown",
   "metadata": {
    "id": "WoPWt1VosgH2"
   },
   "source": [
    "* Criando os vetores $\\vec{F}_1$, $\\vec{F}_2$, $\\vec{F}_3$ e $\\vec{F}_4$:"
   ]
  },
  {
   "cell_type": "code",
   "execution_count": 3,
   "metadata": {
    "id": "OFRsnrELsgH2"
   },
   "outputs": [],
   "source": [
    "F1 = Vetor2D(modulo=150, desc_angulo=\"tetha\", valor_angulo=30)\n",
    "F2 = Vetor2D(modulo=80, desc_angulo=\"betha\", valor_angulo=20)\n",
    "F3 = Vetor2D(modulo=110, desc_angulo=\"tetha\", valor_angulo=270)\n",
    "F4 = Vetor2D(modulo=100, desc_angulo=\"alpha\", valor_angulo=15)"
   ]
  },
  {
   "cell_type": "markdown",
   "metadata": {
    "id": "2Bauo4IwsgH2"
   },
   "source": [
    "* Combinando os vetores em um **array** e calculando o vetor resultante $\\vec{F}_r$:"
   ]
  },
  {
   "cell_type": "code",
   "execution_count": 7,
   "metadata": {
    "colab": {
     "base_uri": "https://localhost:8080/"
    },
    "id": "Fc7gX0gysgH3",
    "outputId": "508322dd-1aae-4a90-aa1a-115d2fdfa913"
   },
   "outputs": [
    {
     "name": "stdout",
     "output_type": "stream",
     "text": [
      "Vetor <Componentes: (199.135, 14.293), Modulo: 199.647, Direção: 4.105°>\n"
     ]
    }
   ],
   "source": [
    "vetores = [F1, F2, F3, F4]\n",
    "\n",
    "vetor_resultante = Vetor2D.soma(vetores=vetores)\n",
    "print(vetor_resultante)"
   ]
  },
  {
   "cell_type": "markdown",
   "metadata": {
    "id": "BgNPYuiFsgH3"
   },
   "source": [
    "### Realizando as operações com vetores a partir de um arquivo:"
   ]
  },
  {
   "cell_type": "markdown",
   "metadata": {
    "id": "KpuBkS3KsgH4"
   },
   "source": [
    "* Carregando dados da planilha **forcas.xlsx**:"
   ]
  },
  {
   "cell_type": "code",
   "execution_count": 10,
   "metadata": {
    "colab": {
     "base_uri": "https://localhost:8080/",
     "height": 425
    },
    "id": "i5C3saBKsgH4",
    "outputId": "cfb99dc7-f113-4cfb-b3b8-2f65961e7262"
   },
   "outputs": [
    {
     "data": {
      "text/html": [
       "<div>\n",
       "<style scoped>\n",
       "    .dataframe tbody tr th:only-of-type {\n",
       "        vertical-align: middle;\n",
       "    }\n",
       "\n",
       "    .dataframe tbody tr th {\n",
       "        vertical-align: top;\n",
       "    }\n",
       "\n",
       "    .dataframe thead th {\n",
       "        text-align: right;\n",
       "    }\n",
       "</style>\n",
       "<table border=\"1\" class=\"dataframe\">\n",
       "  <thead>\n",
       "    <tr style=\"text-align: right;\">\n",
       "      <th></th>\n",
       "      <th>questao</th>\n",
       "      <th>vetor</th>\n",
       "      <th>modulo</th>\n",
       "      <th>desc_angulo</th>\n",
       "      <th>valor_angulo</th>\n",
       "    </tr>\n",
       "  </thead>\n",
       "  <tbody>\n",
       "    <tr>\n",
       "      <th>0</th>\n",
       "      <td>a</td>\n",
       "      <td>F1</td>\n",
       "      <td>150</td>\n",
       "      <td>tetha</td>\n",
       "      <td>30.0</td>\n",
       "    </tr>\n",
       "    <tr>\n",
       "      <th>1</th>\n",
       "      <td>a</td>\n",
       "      <td>F2</td>\n",
       "      <td>80</td>\n",
       "      <td>betha</td>\n",
       "      <td>20.0</td>\n",
       "    </tr>\n",
       "    <tr>\n",
       "      <th>2</th>\n",
       "      <td>a</td>\n",
       "      <td>F3</td>\n",
       "      <td>110</td>\n",
       "      <td>NaN</td>\n",
       "      <td>NaN</td>\n",
       "    </tr>\n",
       "    <tr>\n",
       "      <th>3</th>\n",
       "      <td>a</td>\n",
       "      <td>F4</td>\n",
       "      <td>100</td>\n",
       "      <td>alpha</td>\n",
       "      <td>15.0</td>\n",
       "    </tr>\n",
       "    <tr>\n",
       "      <th>4</th>\n",
       "      <td>b</td>\n",
       "      <td>F1</td>\n",
       "      <td>15</td>\n",
       "      <td>tetha</td>\n",
       "      <td>30.0</td>\n",
       "    </tr>\n",
       "    <tr>\n",
       "      <th>5</th>\n",
       "      <td>b</td>\n",
       "      <td>F2</td>\n",
       "      <td>8</td>\n",
       "      <td>betha</td>\n",
       "      <td>20.0</td>\n",
       "    </tr>\n",
       "    <tr>\n",
       "      <th>6</th>\n",
       "      <td>b</td>\n",
       "      <td>F3</td>\n",
       "      <td>11</td>\n",
       "      <td>NaN</td>\n",
       "      <td>NaN</td>\n",
       "    </tr>\n",
       "    <tr>\n",
       "      <th>7</th>\n",
       "      <td>b</td>\n",
       "      <td>F4</td>\n",
       "      <td>10</td>\n",
       "      <td>alpha</td>\n",
       "      <td>15.0</td>\n",
       "    </tr>\n",
       "    <tr>\n",
       "      <th>8</th>\n",
       "      <td>c</td>\n",
       "      <td>F1</td>\n",
       "      <td>150</td>\n",
       "      <td>tetha</td>\n",
       "      <td>-15.0</td>\n",
       "    </tr>\n",
       "    <tr>\n",
       "      <th>9</th>\n",
       "      <td>c</td>\n",
       "      <td>F2</td>\n",
       "      <td>80</td>\n",
       "      <td>betha</td>\n",
       "      <td>20.0</td>\n",
       "    </tr>\n",
       "    <tr>\n",
       "      <th>10</th>\n",
       "      <td>c</td>\n",
       "      <td>F3</td>\n",
       "      <td>110</td>\n",
       "      <td>NaN</td>\n",
       "      <td>NaN</td>\n",
       "    </tr>\n",
       "    <tr>\n",
       "      <th>11</th>\n",
       "      <td>c</td>\n",
       "      <td>F4</td>\n",
       "      <td>100</td>\n",
       "      <td>alpha</td>\n",
       "      <td>150.0</td>\n",
       "    </tr>\n",
       "  </tbody>\n",
       "</table>\n",
       "</div>"
      ],
      "text/plain": [
       "   questao vetor  modulo desc_angulo  valor_angulo\n",
       "0        a    F1     150       tetha          30.0\n",
       "1        a    F2      80       betha          20.0\n",
       "2        a    F3     110         NaN           NaN\n",
       "3        a    F4     100       alpha          15.0\n",
       "4        b    F1      15       tetha          30.0\n",
       "5        b    F2       8       betha          20.0\n",
       "6        b    F3      11         NaN           NaN\n",
       "7        b    F4      10       alpha          15.0\n",
       "8        c    F1     150       tetha         -15.0\n",
       "9        c    F2      80       betha          20.0\n",
       "10       c    F3     110         NaN           NaN\n",
       "11       c    F4     100       alpha         150.0"
      ]
     },
     "execution_count": 10,
     "metadata": {},
     "output_type": "execute_result"
    }
   ],
   "source": [
    "PLANILHA_DE_DADOS = \"../data/forcas.xlsx\"\n",
    "\n",
    "df_forcas = pd.read_excel(\n",
    "    PLANILHA_DE_DADOS, \n",
    "    engine=\"openpyxl\", \n",
    "    sheet_name=\"dados\"\n",
    ")\n",
    "\n",
    "df_forcas"
   ]
  },
  {
   "cell_type": "markdown",
   "metadata": {
    "id": "1AtWErRwsgH4"
   },
   "source": [
    "* Agrupando os cojuntos de forças $\\vec{F}_1$, $\\vec{F}_2$, $\\vec{F}_3$ e $\\vec{F}_4$ para cada questão:"
   ]
  },
  {
   "cell_type": "code",
   "execution_count": 11,
   "metadata": {
    "colab": {
     "base_uri": "https://localhost:8080/"
    },
    "id": "WOzmuLaDsgH4",
    "outputId": "2f4c2194-93c3-49fb-c946-86c7fca6edfb"
   },
   "outputs": [
    {
     "data": {
      "text/plain": [
       "{'a':   vetor  modulo desc_angulo  valor_angulo\n",
       " 0    F1     150       tetha          30.0\n",
       " 1    F2      80       betha          20.0\n",
       " 2    F3     110         NaN           NaN\n",
       " 3    F4     100       alpha          15.0,\n",
       " 'b':   vetor  modulo desc_angulo  valor_angulo\n",
       " 4    F1      15       tetha          30.0\n",
       " 5    F2       8       betha          20.0\n",
       " 6    F3      11         NaN           NaN\n",
       " 7    F4      10       alpha          15.0,\n",
       " 'c':    vetor  modulo desc_angulo  valor_angulo\n",
       " 8     F1     150       tetha         -15.0\n",
       " 9     F2      80       betha          20.0\n",
       " 10    F3     110         NaN           NaN\n",
       " 11    F4     100       alpha         150.0}"
      ]
     },
     "execution_count": 11,
     "metadata": {},
     "output_type": "execute_result"
    }
   ],
   "source": [
    "forcas_das_questoes = {\n",
    "    questao: forcas[[\"vetor\", \"modulo\", \"desc_angulo\", \"valor_angulo\"]]\n",
    "    for questao, forcas in df_forcas.groupby(\"questao\")\n",
    "}\n",
    "\n",
    "\n",
    "forcas_das_questoes"
   ]
  },
  {
   "cell_type": "markdown",
   "metadata": {
    "id": "qmHVtx15sgH4"
   },
   "source": [
    "* Calculando o vetor resultante $\\vec{F}_r$ para cada questão:"
   ]
  },
  {
   "cell_type": "code",
   "execution_count": 12,
   "metadata": {
    "colab": {
     "base_uri": "https://localhost:8080/"
    },
    "id": "je_ncUEVsgH4",
    "outputId": "bb068585-cb63-4980-b4cb-e677e935560d"
   },
   "outputs": [
    {
     "data": {
      "text/plain": [
       "{'a': [<__main__.Vetor2D at 0x26f5e9aca10>,\n",
       "  <__main__.Vetor2D at 0x26f5e940bc0>,\n",
       "  <__main__.Vetor2D at 0x26f5ee445f0>,\n",
       "  <__main__.Vetor2D at 0x26f5e7ca9f0>],\n",
       " 'b': [<__main__.Vetor2D at 0x26f5e942bd0>,\n",
       "  <__main__.Vetor2D at 0x26f5e9418e0>,\n",
       "  <__main__.Vetor2D at 0x26f5ed21eb0>,\n",
       "  <__main__.Vetor2D at 0x26f5e913c20>],\n",
       " 'c': [<__main__.Vetor2D at 0x26f5ed20ec0>,\n",
       "  <__main__.Vetor2D at 0x26f5e9c0d10>,\n",
       "  <__main__.Vetor2D at 0x26f5ed23f50>,\n",
       "  <__main__.Vetor2D at 0x26f5ed209e0>]}"
      ]
     },
     "execution_count": 12,
     "metadata": {},
     "output_type": "execute_result"
    }
   ],
   "source": [
    "forcas_das_questoes = {\n",
    "    questao: [\n",
    "        Vetor2D(\n",
    "            modulo=forca.modulo,\n",
    "            desc_angulo=forca.desc_angulo,\n",
    "            valor_angulo=forca.valor_angulo,\n",
    "        )\n",
    "        for _, forca in forcas.iterrows()\n",
    "    ]\n",
    "    for questao, forcas in forcas_das_questoes.items()\n",
    "}\n",
    "\n",
    "forcas_das_questoes"
   ]
  },
  {
   "cell_type": "markdown",
   "metadata": {
    "id": "70q3_x3tsgH5"
   },
   "source": [
    "* Resultados:"
   ]
  },
  {
   "cell_type": "code",
   "execution_count": 13,
   "metadata": {
    "id": "jzHGrOgmsgH5"
   },
   "outputs": [],
   "source": [
    "resultantes_das_questoes = {\n",
    "    questao: Vetor2D.soma(vetores=forcas)\n",
    "    for questao, forcas in forcas_das_questoes.items()\n",
    "}"
   ]
  },
  {
   "cell_type": "code",
   "execution_count": 14,
   "metadata": {
    "colab": {
     "base_uri": "https://localhost:8080/",
     "height": 109
    },
    "id": "o2jUgktpxhfs",
    "outputId": "349390e7-22b9-43f7-d756-4317465383a2"
   },
   "outputs": [
    {
     "data": {
      "text/markdown": [
       "**Questão $a$:** $\\vec{F}_r$ = $199.135i$ +$14.293j$"
      ],
      "text/plain": [
       "<IPython.core.display.Markdown object>"
      ]
     },
     "metadata": {},
     "output_type": "display_data"
    },
    {
     "data": {
      "text/markdown": [
       "**Questão $b$:** $\\vec{F}_r$ = $19.913i$ +$1.43j$"
      ],
      "text/plain": [
       "<IPython.core.display.Markdown object>"
      ]
     },
     "metadata": {},
     "output_type": "display_data"
    },
    {
     "data": {
      "text/markdown": [
       "**Questão $c$:** $\\vec{F}_r$ = $30.924i$ $-123.648j$"
      ],
      "text/plain": [
       "<IPython.core.display.Markdown object>"
      ]
     },
     "metadata": {},
     "output_type": "display_data"
    }
   ],
   "source": [
    "# | echo: false\n",
    "for questao, vetor_resultante in resultantes_das_questoes.items():\n",
    "    sinal_componente_y = \"+\" if vetor_resultante.componente_y >= 0 else \"\"\n",
    "    resposta = (\n",
    "        f\"**Questão ${questao}$:** \"\n",
    "        + r\"$\\vec{F}_r$ = \"\n",
    "        + f\"${vetor_resultante.componente_x}i$ \"\n",
    "        + sinal_componente_y\n",
    "        + f\"${vetor_resultante.componente_y}j$\"\n",
    "    )\n",
    "    display(Markdown(resposta))"
   ]
  },
  {
   "cell_type": "markdown",
   "metadata": {},
   "source": [
    "### Observação: \n",
    "\n",
    "Todas as forças devem estar na mesma unidade para que os resultados sejam coerentes.<br>\n",
    "Nas alternativas $(a)$, $(b)$ e $(c)$ todas as forças se encontram em $N$."
   ]
  },
  {
   "cell_type": "markdown",
   "metadata": {},
   "source": [
    "### Acesso ao Código e Dados do Exercício:\n",
    "- [Link do Notebook](https://drive.google.com/file/d/1NhXXl_5aOhahGbKEz_1THGBbSHduPw5P/view?usp=sharing)\n",
    "- [Link dos Dados](https://docs.google.com/spreadsheets/d/1RzaUyMrHArEgXdrNzVgrv2vyCmafsIPw/edit?usp=sharing&ouid=107316198120870873971&rtpof=true&sd=true)"
   ]
  }
 ],
 "metadata": {
  "colab": {
   "provenance": []
  },
  "kernelspec": {
   "display_name": "Python 3 (ipykernel)",
   "language": "python",
   "name": "python3"
  }
 },
 "nbformat": 4,
 "nbformat_minor": 0
}
