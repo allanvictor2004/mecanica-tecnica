{
 "cells": [
  {
   "cell_type": "markdown",
   "metadata": {},
   "source": [
    "---\n",
    "title: Exercicios Propostos em Sala de Aula - Momento em Três Dimensões\n",
    "author: Allan Victor Mateus Guimarães\n",
    "jupyter: python3\n",
    "date: today\n",
    "date-format: \"DD/MM/YYYY\"\n",
    "format:\n",
    "  typst:\n",
    "    page_size: A4\n",
    "    orientation: landscape\n",
    "    font: \"Libertinus Serif\"\n",
    "    margins: [20mm, 20mm, 30mm, 30mm]  # Ordem: superior, inferior, esquerda, direita\n",
    "    colorlinks: true\n",
    "---"
   ]
  },
  {
   "cell_type": "markdown",
   "metadata": {},
   "source": [
    "## Bibliotecas"
   ]
  },
  {
   "cell_type": "code",
   "execution_count": 1,
   "metadata": {},
   "outputs": [],
   "source": [
    "import numpy as np\n",
    "import sympy as sp"
   ]
  },
  {
   "cell_type": "markdown",
   "metadata": {},
   "source": [
    "## Desenvolvimento"
   ]
  },
  {
   "cell_type": "markdown",
   "metadata": {},
   "source": [
    "- Exercício 01"
   ]
  },
  {
   "cell_type": "code",
   "execution_count": 42,
   "metadata": {},
   "outputs": [],
   "source": [
    "# Declaração das variaveis simbólicas para os vetores unitários\n",
    "i, j, k = sp.symbols(\"i j k\")\n",
    "\n",
    "# Declaração das variaveis numéricas\n",
    "vetor_unitario = [i, j, k]\n",
    "distancia = [0.08, 0.30, 0]\n",
    "forca = [-128, -120, 96]"
   ]
  },
  {
   "cell_type": "code",
   "execution_count": 44,
   "metadata": {},
   "outputs": [
    {
     "data": {
      "text/latex": [
       "$\\displaystyle 28.8 i - 7.68 j + 28.8 k$"
      ],
      "text/plain": [
       "28.8*i - 7.68*j + 28.8*k"
      ]
     },
     "execution_count": 44,
     "metadata": {},
     "output_type": "execute_result"
    }
   ],
   "source": [
    "# Calculo do momento pela determinante entre a força e ditancia\n",
    "momento = sp.Matrix([vetor_unitario, distancia, forca]).det()\n",
    "momento"
   ]
  }
 ],
 "metadata": {
  "kernelspec": {
   "display_name": "Python 3 (ipykernel)",
   "language": "python",
   "name": "python3"
  }
 },
 "nbformat": 4,
 "nbformat_minor": 2
}
