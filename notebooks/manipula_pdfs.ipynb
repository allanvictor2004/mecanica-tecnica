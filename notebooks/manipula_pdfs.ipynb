{
 "cells": [
  {
   "cell_type": "markdown",
   "metadata": {},
   "source": [
    "---\n",
    "title: Gera PDFs\n",
    "author: Allan Victor Mateus Guimarães\n",
    "date: today\n",
    "date-format: \"DD/MM/YYYY\"\n",
    "jupyter: python3\n",
    "format:\n",
    "  typst:\n",
    "    page_size: A4\n",
    "    orientation: landscape\n",
    "    font: \"Libertinus Serif\"\n",
    "    margins: [20mm, 20mm, 30mm, 30mm]  # Ordem: superior, inferior, esquerda, direita\n",
    "    colorlinks: true\n",
    "---"
   ]
  },
  {
   "cell_type": "markdown",
   "metadata": {},
   "source": [
    "## Código"
   ]
  },
  {
   "cell_type": "code",
   "execution_count": 2,
   "metadata": {},
   "outputs": [],
   "source": [
    "from PyPDF2 import PdfReader, PdfWriter"
   ]
  },
  {
   "cell_type": "code",
   "execution_count": 3,
   "metadata": {},
   "outputs": [],
   "source": [
    "def extrair_paginas(input_pdf, output_pdf, paginas):\n",
    "    reader = PdfReader(input_pdf)\n",
    "    writer = PdfWriter()\n",
    "\n",
    "    for num in paginas:\n",
    "        writer.add_page(reader.pages[num - 1])  # Subtraímos 1 porque a contagem é baseada em 0\n",
    "\n",
    "    with open(output_pdf, \"wb\") as f_out:\n",
    "        writer.write(f_out)\n"
   ]
  },
  {
   "cell_type": "code",
   "execution_count": 4,
   "metadata": {},
   "outputs": [],
   "source": [
    "paginas_para_extrair = [1, 2, 3, 5]\n",
    "extrair_paginas(\n",
    "    input_pdf=\"arquivos/Lista de Exercícios - 24-10-2024 - Allan Victor Mateus Guimarães.pdf\", \n",
    "    output_pdf=\"arquivos/paginas_extraídas.pdf\", \n",
    "    paginas=paginas_para_extrair\n",
    ")"
   ]
  },
  {
   "cell_type": "code",
   "execution_count": 3,
   "metadata": {},
   "outputs": [],
   "source": [
    "def combinar_pdfs(arquivos_pdf, output_pdf):\n",
    "    writer = PdfWriter()\n",
    "\n",
    "    for arquivo in arquivos_pdf:\n",
    "        reader = PdfReader(arquivo)\n",
    "        for pagina in reader.pages:\n",
    "            writer.add_page(pagina)\n",
    "\n",
    "    with open(output_pdf, \"wb\") as f_out:\n",
    "        writer.write(f_out)"
   ]
  },
  {
   "cell_type": "code",
   "execution_count": 8,
   "metadata": {},
   "outputs": [],
   "source": [
    "arquivos_para_combinar = [\n",
    "    \"arquivos/paginas_extraídas.pdf\",\n",
    "    \"arquivos/mecanica_exercicio_08.pdf\"\n",
    "]\n",
    "\n",
    "arquivo_combinado = \"arquivos/exercicios-mecanica-tecnica-allan-victor-mateus-guimaraes-24102024.pdf\"\n",
    "\n",
    "combinar_pdfs(arquivos_para_combinar, arquivo_combinado)"
   ]
  }
 ],
 "metadata": {
  "kernelspec": {
   "display_name": "Python 3 (ipykernel)",
   "language": "python",
   "name": "python3"
  }
 },
 "nbformat": 4,
 "nbformat_minor": 2
}
